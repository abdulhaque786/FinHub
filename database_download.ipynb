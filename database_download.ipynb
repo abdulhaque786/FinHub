{
  "nbformat": 4,
  "nbformat_minor": 0,
  "metadata": {
    "colab": {
      "provenance": []
    },
    "kernelspec": {
      "name": "python3",
      "display_name": "Python 3"
    },
    "language_info": {
      "name": "python"
    }
  },
  "cells": [
    {
      "cell_type": "code",
      "execution_count": null,
      "metadata": {
        "colab": {
          "base_uri": "https://localhost:8080/"
        },
        "id": "0ahWtiIqJvfL",
        "outputId": "64a50a53-64aa-472b-94be-d7cdcb1ff740"
      },
      "outputs": [
        {
          "output_type": "stream",
          "name": "stdout",
          "text": [
            "Mounted at /content/drive\n"
          ]
        }
      ],
      "source": [
        "from google.colab import drive\n",
        "\n",
        "# Mount Google Drive\n",
        "drive.mount('/content/drive')"
      ]
    },
    {
      "cell_type": "code",
      "source": [
        "import os"
      ],
      "metadata": {
        "id": "iYnFtndXLIT1"
      },
      "execution_count": null,
      "outputs": []
    },
    {
      "cell_type": "code",
      "source": [
        "download_dir = '/content/drive/My Drive/database_finance/ARM'"
      ],
      "metadata": {
        "id": "aoCXIi1pLvvy"
      },
      "execution_count": null,
      "outputs": []
    },
    {
      "cell_type": "code",
      "source": [
        "os.makedirs(download_dir, exist_ok=True)"
      ],
      "metadata": {
        "id": "AwZkxt0cMGj-"
      },
      "execution_count": null,
      "outputs": []
    },
    {
      "cell_type": "code",
      "source": [
        "CUSTOM_TICKER=[\"AAPL\",\"AMGN\",\"AMZN\",\"AXP\",\"BA\",\"CAT\",\"CSCO\",\"CVX\",\"DIS\",\"GOOG\",\"GS\",\"HD\",\"HON\",\"IBM\",\"INTC\",\"JNJ\",\"KO\",\"MSFT\",\"NKE\",\"NVDA\",\"PG\",\"QCOM\",\"TRV\",\"UNH\",\"VZ\",\"WMT\"]"
      ],
      "metadata": {
        "id": "d3DJjMZsMLnd"
      },
      "execution_count": null,
      "outputs": []
    },
    {
      "cell_type": "code",
      "source": [
        "base_path = '/content/drive/MyDrive/database_finance'\n",
        "\n",
        "# for ticker in CUSTOM_TICKER:\n",
        "#   folder_path = os.path.join(base_path, ticker)\n",
        "#   os.makedirs(folder_path, exist_ok=True)"
      ],
      "metadata": {
        "id": "1zl0lH2SN-Qh"
      },
      "execution_count": null,
      "outputs": []
    },
    {
      "cell_type": "code",
      "source": [
        "!pip install financedatabase -U"
      ],
      "metadata": {
        "colab": {
          "base_uri": "https://localhost:8080/"
        },
        "id": "Gzv3y1boOi03",
        "outputId": "2a0c08b2-1be7-4e21-8edc-8e8540fd35ac"
      },
      "execution_count": null,
      "outputs": [
        {
          "output_type": "stream",
          "name": "stdout",
          "text": [
            "Collecting financedatabase\n",
            "  Downloading financedatabase-2.3.0-py3-none-any.whl.metadata (45 kB)\n",
            "\u001b[2K     \u001b[90m━━━━━━━━━━━━━━━━━━━━━━━━━━━━━━━━━━━━━━━━\u001b[0m \u001b[32m46.0/46.0 kB\u001b[0m \u001b[31m2.5 MB/s\u001b[0m eta \u001b[36m0:00:00\u001b[0m\n",
            "\u001b[?25hCollecting financetoolkit<3.0.0,>=2.0.0 (from financedatabase)\n",
            "  Downloading financetoolkit-2.0.3-py3-none-any.whl.metadata (262 kB)\n",
            "\u001b[2K     \u001b[90m━━━━━━━━━━━━━━━━━━━━━━━━━━━━━━━━━━━━━━━\u001b[0m \u001b[32m262.0/262.0 kB\u001b[0m \u001b[31m6.7 MB/s\u001b[0m eta \u001b[36m0:00:00\u001b[0m\n",
            "\u001b[?25hRequirement already satisfied: pandas<3.0,>=2.2 in /usr/local/lib/python3.11/dist-packages (from pandas[computation,excel,performance,plot]<3.0,>=2.2->financedatabase) (2.2.2)\n",
            "Requirement already satisfied: requests<3.0.0,>=2.32.3 in /usr/local/lib/python3.11/dist-packages (from financedatabase) (2.32.3)\n",
            "Requirement already satisfied: openpyxl<4.0,>=3.1 in /usr/local/lib/python3.11/dist-packages (from financetoolkit<3.0.0,>=2.0.0->financedatabase) (3.1.5)\n",
            "Requirement already satisfied: scikit-learn<2.0,>=1.6 in /usr/local/lib/python3.11/dist-packages (from financetoolkit<3.0.0,>=2.0.0->financedatabase) (1.6.1)\n",
            "Requirement already satisfied: tqdm<5.0,>=4.67 in /usr/local/lib/python3.11/dist-packages (from financetoolkit<3.0.0,>=2.0.0->financedatabase) (4.67.1)\n",
            "Requirement already satisfied: numpy>=1.23.2 in /usr/local/lib/python3.11/dist-packages (from pandas<3.0,>=2.2->pandas[computation,excel,performance,plot]<3.0,>=2.2->financedatabase) (2.0.2)\n",
            "Requirement already satisfied: python-dateutil>=2.8.2 in /usr/local/lib/python3.11/dist-packages (from pandas<3.0,>=2.2->pandas[computation,excel,performance,plot]<3.0,>=2.2->financedatabase) (2.9.0.post0)\n",
            "Requirement already satisfied: pytz>=2020.1 in /usr/local/lib/python3.11/dist-packages (from pandas<3.0,>=2.2->pandas[computation,excel,performance,plot]<3.0,>=2.2->financedatabase) (2025.2)\n",
            "Requirement already satisfied: tzdata>=2022.7 in /usr/local/lib/python3.11/dist-packages (from pandas<3.0,>=2.2->pandas[computation,excel,performance,plot]<3.0,>=2.2->financedatabase) (2025.2)\n",
            "Requirement already satisfied: bottleneck>=1.3.6 in /usr/local/lib/python3.11/dist-packages (from pandas[computation,excel,performance,plot]<3.0,>=2.2->financedatabase) (1.4.2)\n",
            "Requirement already satisfied: numba>=0.56.4 in /usr/local/lib/python3.11/dist-packages (from pandas[computation,excel,performance,plot]<3.0,>=2.2->financedatabase) (0.60.0)\n",
            "Requirement already satisfied: numexpr>=2.8.4 in /usr/local/lib/python3.11/dist-packages (from pandas[computation,excel,performance,plot]<3.0,>=2.2->financedatabase) (2.11.0)\n",
            "Requirement already satisfied: scipy>=1.10.0 in /usr/local/lib/python3.11/dist-packages (from pandas[computation,excel,performance,plot]<3.0,>=2.2->financedatabase) (1.15.3)\n",
            "Requirement already satisfied: xarray>=2022.12.0 in /usr/local/lib/python3.11/dist-packages (from pandas[computation,excel,performance,plot]<3.0,>=2.2->financedatabase) (2025.3.1)\n",
            "Collecting odfpy>=1.4.1 (from pandas[computation,excel,performance,plot]<3.0,>=2.2->financedatabase)\n",
            "  Downloading odfpy-1.4.1.tar.gz (717 kB)\n",
            "\u001b[2K     \u001b[90m━━━━━━━━━━━━━━━━━━━━━━━━━━━━━━━━━━━━━━\u001b[0m \u001b[32m717.0/717.0 kB\u001b[0m \u001b[31m27.1 MB/s\u001b[0m eta \u001b[36m0:00:00\u001b[0m\n",
            "\u001b[?25h  Preparing metadata (setup.py) ... \u001b[?25l\u001b[?25hdone\n",
            "Collecting python-calamine>=0.1.7 (from pandas[computation,excel,performance,plot]<3.0,>=2.2->financedatabase)\n",
            "  Downloading python_calamine-0.3.2-cp311-cp311-manylinux_2_17_x86_64.manylinux2014_x86_64.whl.metadata (3.9 kB)\n",
            "Collecting pyxlsb>=1.0.10 (from pandas[computation,excel,performance,plot]<3.0,>=2.2->financedatabase)\n",
            "  Downloading pyxlsb-1.0.10-py2.py3-none-any.whl.metadata (2.5 kB)\n",
            "Requirement already satisfied: xlrd>=2.0.1 in /usr/local/lib/python3.11/dist-packages (from pandas[computation,excel,performance,plot]<3.0,>=2.2->financedatabase) (2.0.2)\n",
            "Collecting xlsxwriter>=3.0.5 (from pandas[computation,excel,performance,plot]<3.0,>=2.2->financedatabase)\n",
            "  Downloading xlsxwriter-3.2.5-py3-none-any.whl.metadata (2.7 kB)\n",
            "Requirement already satisfied: matplotlib>=3.6.3 in /usr/local/lib/python3.11/dist-packages (from pandas[computation,excel,performance,plot]<3.0,>=2.2->financedatabase) (3.10.0)\n",
            "Requirement already satisfied: charset-normalizer<4,>=2 in /usr/local/lib/python3.11/dist-packages (from requests<3.0.0,>=2.32.3->financedatabase) (3.4.2)\n",
            "Requirement already satisfied: idna<4,>=2.5 in /usr/local/lib/python3.11/dist-packages (from requests<3.0.0,>=2.32.3->financedatabase) (3.10)\n",
            "Requirement already satisfied: urllib3<3,>=1.21.1 in /usr/local/lib/python3.11/dist-packages (from requests<3.0.0,>=2.32.3->financedatabase) (2.4.0)\n",
            "Requirement already satisfied: certifi>=2017.4.17 in /usr/local/lib/python3.11/dist-packages (from requests<3.0.0,>=2.32.3->financedatabase) (2025.6.15)\n",
            "Requirement already satisfied: contourpy>=1.0.1 in /usr/local/lib/python3.11/dist-packages (from matplotlib>=3.6.3->pandas[computation,excel,performance,plot]<3.0,>=2.2->financedatabase) (1.3.2)\n",
            "Requirement already satisfied: cycler>=0.10 in /usr/local/lib/python3.11/dist-packages (from matplotlib>=3.6.3->pandas[computation,excel,performance,plot]<3.0,>=2.2->financedatabase) (0.12.1)\n",
            "Requirement already satisfied: fonttools>=4.22.0 in /usr/local/lib/python3.11/dist-packages (from matplotlib>=3.6.3->pandas[computation,excel,performance,plot]<3.0,>=2.2->financedatabase) (4.58.4)\n",
            "Requirement already satisfied: kiwisolver>=1.3.1 in /usr/local/lib/python3.11/dist-packages (from matplotlib>=3.6.3->pandas[computation,excel,performance,plot]<3.0,>=2.2->financedatabase) (1.4.8)\n",
            "Requirement already satisfied: packaging>=20.0 in /usr/local/lib/python3.11/dist-packages (from matplotlib>=3.6.3->pandas[computation,excel,performance,plot]<3.0,>=2.2->financedatabase) (24.2)\n",
            "Requirement already satisfied: pillow>=8 in /usr/local/lib/python3.11/dist-packages (from matplotlib>=3.6.3->pandas[computation,excel,performance,plot]<3.0,>=2.2->financedatabase) (11.2.1)\n",
            "Requirement already satisfied: pyparsing>=2.3.1 in /usr/local/lib/python3.11/dist-packages (from matplotlib>=3.6.3->pandas[computation,excel,performance,plot]<3.0,>=2.2->financedatabase) (3.2.3)\n",
            "Requirement already satisfied: llvmlite<0.44,>=0.43.0dev0 in /usr/local/lib/python3.11/dist-packages (from numba>=0.56.4->pandas[computation,excel,performance,plot]<3.0,>=2.2->financedatabase) (0.43.0)\n",
            "Requirement already satisfied: defusedxml in /usr/local/lib/python3.11/dist-packages (from odfpy>=1.4.1->pandas[computation,excel,performance,plot]<3.0,>=2.2->financedatabase) (0.7.1)\n",
            "Requirement already satisfied: et-xmlfile in /usr/local/lib/python3.11/dist-packages (from openpyxl<4.0,>=3.1->financetoolkit<3.0.0,>=2.0.0->financedatabase) (2.0.0)\n",
            "Requirement already satisfied: six>=1.5 in /usr/local/lib/python3.11/dist-packages (from python-dateutil>=2.8.2->pandas<3.0,>=2.2->pandas[computation,excel,performance,plot]<3.0,>=2.2->financedatabase) (1.17.0)\n",
            "Requirement already satisfied: joblib>=1.2.0 in /usr/local/lib/python3.11/dist-packages (from scikit-learn<2.0,>=1.6->financetoolkit<3.0.0,>=2.0.0->financedatabase) (1.5.1)\n",
            "Requirement already satisfied: threadpoolctl>=3.1.0 in /usr/local/lib/python3.11/dist-packages (from scikit-learn<2.0,>=1.6->financetoolkit<3.0.0,>=2.0.0->financedatabase) (3.6.0)\n",
            "Downloading financedatabase-2.3.0-py3-none-any.whl (33 kB)\n",
            "Downloading financetoolkit-2.0.3-py3-none-any.whl (411 kB)\n",
            "\u001b[2K   \u001b[90m━━━━━━━━━━━━━━━━━━━━━━━━━━━━━━━━━━━━━━━━\u001b[0m \u001b[32m411.9/411.9 kB\u001b[0m \u001b[31m22.6 MB/s\u001b[0m eta \u001b[36m0:00:00\u001b[0m\n",
            "\u001b[?25hDownloading python_calamine-0.3.2-cp311-cp311-manylinux_2_17_x86_64.manylinux2014_x86_64.whl (886 kB)\n",
            "\u001b[2K   \u001b[90m━━━━━━━━━━━━━━━━━━━━━━━━━━━━━━━━━━━━━━━━\u001b[0m \u001b[32m886.0/886.0 kB\u001b[0m \u001b[31m34.0 MB/s\u001b[0m eta \u001b[36m0:00:00\u001b[0m\n",
            "\u001b[?25hDownloading pyxlsb-1.0.10-py2.py3-none-any.whl (23 kB)\n",
            "Downloading xlsxwriter-3.2.5-py3-none-any.whl (172 kB)\n",
            "\u001b[2K   \u001b[90m━━━━━━━━━━━━━━━━━━━━━━━━━━━━━━━━━━━━━━━━\u001b[0m \u001b[32m172.3/172.3 kB\u001b[0m \u001b[31m11.5 MB/s\u001b[0m eta \u001b[36m0:00:00\u001b[0m\n",
            "\u001b[?25hBuilding wheels for collected packages: odfpy\n",
            "  Building wheel for odfpy (setup.py) ... \u001b[?25l\u001b[?25hdone\n",
            "  Created wheel for odfpy: filename=odfpy-1.4.1-py2.py3-none-any.whl size=160673 sha256=af586a40447a6b8ddaf7a3f92c0d499b2b8bd1ba0c6940dec168bedaceb0d87e\n",
            "  Stored in directory: /root/.cache/pip/wheels/d6/1d/c8/8c29be1d73ca42d15977c75193d9f39a98499413c2838ac54c\n",
            "Successfully built odfpy\n",
            "Installing collected packages: pyxlsb, xlsxwriter, python-calamine, odfpy, financetoolkit, financedatabase\n",
            "Successfully installed financedatabase-2.3.0 financetoolkit-2.0.3 odfpy-1.4.1 python-calamine-0.3.2 pyxlsb-1.0.10 xlsxwriter-3.2.5\n"
          ]
        }
      ]
    },
    {
      "cell_type": "code",
      "source": [
        "from financetoolkit import Toolkit"
      ],
      "metadata": {
        "id": "KpknEv3xFcBX"
      },
      "execution_count": null,
      "outputs": []
    },
    {
      "cell_type": "code",
      "source": [
        "companies = Toolkit(ticker, api_key=\"ULn8J24FAp8SZFGNzUVj4cpY4fWVCTBl\", start_date=\"2017-12-31\")"
      ],
      "metadata": {
        "id": "11HgHUb-vr4x"
      },
      "execution_count": null,
      "outputs": []
    },
    {
      "cell_type": "code",
      "source": [
        "\n",
        "folder_path = os.path.join(download_dir, \"ratios\")"
      ],
      "metadata": {
        "id": "hSPmnFCfFrRW"
      },
      "execution_count": null,
      "outputs": []
    },
    {
      "cell_type": "code",
      "source": [
        "os.makedirs(folder_path, exist_ok=True)"
      ],
      "metadata": {
        "id": "o8cKMsDTv3wz"
      },
      "execution_count": null,
      "outputs": []
    },
    {
      "cell_type": "code",
      "source": [
        "profitability = companies.ratios.collect_profitability_ratios()\n",
        "save_path = os.path.join(folder_path, f'{ticker}_profitability.csv')\n",
        "profitability.to_csv(save_path)\n"
      ],
      "metadata": {
        "id": "1P0iDfxfwGZa",
        "colab": {
          "base_uri": "https://localhost:8080/"
        },
        "outputId": "a874acc5-ba28-4f2f-d47d-3c77085291cf"
      },
      "execution_count": null,
      "outputs": [
        {
          "output_type": "stream",
          "name": "stderr",
          "text": [
            "\rObtaining financial statements:   0%|          | 0/3 [00:00<?, ?it/s]"
          ]
        },
        {
          "output_type": "stream",
          "name": "stdout",
          "text": [
            "2025-07-04 03:28:09 - financetoolkit - ERROR - The following tickers are using a premium query parameter from Financial Modeling Prep: ARM.\n",
            "This is not available in your current plan. Consider upgrading your plan to a higher plan. You can get 15% off by using the following affiliate link which also supports the project: https://www.jeroenbouma.com/fmp\n"
          ]
        },
        {
          "output_type": "stream",
          "name": "stderr",
          "text": [
            "ERROR:financetoolkit:The following tickers are using a premium query parameter from Financial Modeling Prep: ARM.\n",
            "This is not available in your current plan. Consider upgrading your plan to a higher plan. You can get 15% off by using the following affiliate link which also supports the project: https://www.jeroenbouma.com/fmp\n",
            "Obtaining financial statements:  33%|███▎      | 1/3 [00:01<00:02,  1.00s/it]"
          ]
        },
        {
          "output_type": "stream",
          "name": "stdout",
          "text": [
            "2025-07-04 03:28:09 - financetoolkit - ERROR - The following tickers are using a premium query parameter from Financial Modeling Prep: ARM.\n",
            "This is not available in your current plan. Consider upgrading your plan to a higher plan. You can get 15% off by using the following affiliate link which also supports the project: https://www.jeroenbouma.com/fmp\n"
          ]
        },
        {
          "output_type": "stream",
          "name": "stderr",
          "text": [
            "ERROR:financetoolkit:The following tickers are using a premium query parameter from Financial Modeling Prep: ARM.\n",
            "This is not available in your current plan. Consider upgrading your plan to a higher plan. You can get 15% off by using the following affiliate link which also supports the project: https://www.jeroenbouma.com/fmp\n",
            "Obtaining financial statements:  67%|██████▋   | 2/3 [00:01<00:00,  1.40it/s]"
          ]
        },
        {
          "output_type": "stream",
          "name": "stdout",
          "text": [
            "2025-07-04 03:28:10 - financetoolkit - ERROR - The following tickers are using a premium query parameter from Financial Modeling Prep: ARM.\n",
            "This is not available in your current plan. Consider upgrading your plan to a higher plan. You can get 15% off by using the following affiliate link which also supports the project: https://www.jeroenbouma.com/fmp\n"
          ]
        },
        {
          "output_type": "stream",
          "name": "stderr",
          "text": [
            "ERROR:financetoolkit:The following tickers are using a premium query parameter from Financial Modeling Prep: ARM.\n",
            "This is not available in your current plan. Consider upgrading your plan to a higher plan. You can get 15% off by using the following affiliate link which also supports the project: https://www.jeroenbouma.com/fmp\n",
            "Obtaining financial statements: 100%|██████████| 3/3 [00:02<00:00,  1.38it/s]\n",
            "Obtaining historical data: 100%|██████████| 2/2 [00:00<00:00,  9.58it/s]\n"
          ]
        }
      ]
    },
    {
      "cell_type": "code",
      "source": [
        "solvency = companies.ratios.collect_solvency_ratios()\n",
        "save_path = os.path.join(folder_path, f'{ticker}_solvency.csv')\n",
        "solvency.to_csv(save_path)"
      ],
      "metadata": {
        "id": "HhsNl4BxwcX5"
      },
      "execution_count": null,
      "outputs": []
    },
    {
      "cell_type": "code",
      "source": [
        "efficiency = companies.ratios.collect_efficiency_ratios()\n",
        "save_path = os.path.join(folder_path, f'{ticker}_efficiency.csv')\n",
        "efficiency.to_csv(save_path)"
      ],
      "metadata": {
        "id": "jj26cBUZw5pB"
      },
      "execution_count": null,
      "outputs": []
    },
    {
      "cell_type": "code",
      "source": [
        "valuation = companies.ratios.collect_valuation_ratios()\n",
        "save_path = os.path.join(folder_path, f'{ticker}_valuation.csv')\n",
        "valuation.to_csv(save_path)"
      ],
      "metadata": {
        "id": "AOddgngMxSJx"
      },
      "execution_count": null,
      "outputs": []
    },
    {
      "cell_type": "code",
      "source": [
        "liquidity = companies.ratios.collect_liquidity_ratios()\n",
        "save_path = os.path.join(folder_path, f'{ticker}_liquidity.csv')\n",
        "liquidity.to_csv(save_path)"
      ],
      "metadata": {
        "id": "azsaGuTvxZFq"
      },
      "execution_count": null,
      "outputs": []
    },
    {
      "cell_type": "code",
      "source": [
        "folder_path = os.path.join(download_dir, \"income_statement\")\n",
        "os.makedirs(folder_path, exist_ok=True)"
      ],
      "metadata": {
        "id": "vGnz4EuWxftO"
      },
      "execution_count": null,
      "outputs": []
    },
    {
      "cell_type": "code",
      "source": [
        "income_statement = companies.get_income_statement()\n",
        "save_path = os.path.join(folder_path, f'{ticker}_income_statement.csv')\n",
        "income_statement.to_csv(save_path)"
      ],
      "metadata": {
        "id": "x-mE0Komx8lX"
      },
      "execution_count": null,
      "outputs": []
    },
    {
      "cell_type": "code",
      "source": [
        "folder_path = os.path.join(download_dir, \"models\")\n",
        "os.makedirs(folder_path, exist_ok=True)"
      ],
      "metadata": {
        "id": "O1LETE7-yKJC"
      },
      "execution_count": null,
      "outputs": []
    },
    {
      "cell_type": "code",
      "source": [
        "dupont_analysis = companies.models.get_extended_dupont_analysis()\n",
        "save_path = os.path.join(folder_path, f'{ticker}_extended_dupont_analysis.csv')\n",
        "dupont_analysis.to_csv(save_path)"
      ],
      "metadata": {
        "id": "UKKFqtUDynsv"
      },
      "execution_count": null,
      "outputs": []
    },
    {
      "cell_type": "code",
      "source": [
        "dupont_analysis = companies.models.get_dupont_analysis()\n",
        "save_path = os.path.join(folder_path, f'{ticker}_dupont_analysis.csv')\n",
        "dupont_analysis.to_csv(save_path)"
      ],
      "metadata": {
        "id": "t1QgDmUqyy3Z"
      },
      "execution_count": null,
      "outputs": []
    },
    {
      "cell_type": "code",
      "source": [
        "weighted_average_cost_of_capital = companies.models.get_weighted_average_cost_of_capital()\n",
        "save_path = os.path.join(folder_path, f'{ticker}_weighted_average_cost_of_capital.csv')\n",
        "weighted_average_cost_of_capital.to_csv(save_path)"
      ],
      "metadata": {
        "id": "66iu3y-TzHx6"
      },
      "execution_count": null,
      "outputs": []
    },
    {
      "cell_type": "code",
      "source": [
        "piotroski_score = companies.models.get_piotroski_score()\n",
        "save_path = os.path.join(folder_path, f'{ticker}_piotroski_score.csv')\n",
        "piotroski_score.to_csv(save_path)"
      ],
      "metadata": {
        "id": "8W5qTY87zd9v"
      },
      "execution_count": null,
      "outputs": []
    },
    {
      "cell_type": "code",
      "source": [
        "altman_z_score = companies.models.get_altman_z_score()\n",
        "save_path = os.path.join(folder_path, f'{ticker}_altman_z_score.csv')\n",
        "altman_z_score.to_csv(save_path)"
      ],
      "metadata": {
        "id": "awZhF7TPzl6p"
      },
      "execution_count": null,
      "outputs": []
    },
    {
      "cell_type": "code",
      "source": [
        "enterprise_value_breakdown = companies.models.get_enterprise_value_breakdown()\n",
        "save_path = os.path.join(folder_path, f'{ticker}_enterprise_value_breakdown.csv')\n",
        "enterprise_value_breakdown.to_csv(save_path)"
      ],
      "metadata": {
        "id": "3rUGOj5q0onE"
      },
      "execution_count": null,
      "outputs": []
    },
    {
      "cell_type": "code",
      "source": [
        "historical_data = companies.get_historical_data()\n",
        "folder_path = os.path.join(download_dir, \"historical_data\")\n",
        "os.makedirs(folder_path, exist_ok=True)\n",
        "save_path = os.path.join(folder_path, f'{ticker}_historical_data.csv')\n",
        "historical_data.to_csv(save_path)"
      ],
      "metadata": {
        "id": "KrFPK7Fd0zPy"
      },
      "execution_count": null,
      "outputs": []
    },
    {
      "cell_type": "code",
      "source": [
        "cash_flow_statement = companies.get_cash_flow_statement()\n",
        "folder_path = os.path.join(download_dir, \"cash_flow_statement\")\n",
        "os.makedirs(folder_path, exist_ok=True)\n",
        "save_path = os.path.join(folder_path, f'{ticker}_cash_flow_statement.csv')\n",
        "cash_flow_statement.to_csv(save_path)"
      ],
      "metadata": {
        "id": "YpluN8Gs1wjo"
      },
      "execution_count": null,
      "outputs": []
    },
    {
      "cell_type": "code",
      "source": [
        "balance_sheet_statement = companies.get_balance_sheet_statement()\n",
        "folder_path = os.path.join(download_dir, \"balance_sheet_statement\")\n",
        "os.makedirs(folder_path, exist_ok=True)\n",
        "save_path = os.path.join(folder_path, f'{ticker}_balance_sheet_statement.csv')\n",
        "balance_sheet_statement.to_csv(save_path)"
      ],
      "metadata": {
        "id": "W8jQxUki2HYP"
      },
      "execution_count": null,
      "outputs": []
    },
    {
      "cell_type": "code",
      "source": [
        "ratings = companies.get_rating()\n",
        "folder_path = os.path.join(download_dir, \"ratings\")\n",
        "os.makedirs(folder_path, exist_ok=True)\n",
        "save_path = os.path.join(folder_path, f'{ticker}_ratings.csv')\n",
        "ratings.to_csv(save_path)"
      ],
      "metadata": {
        "id": "ArZbs_Yf2gAK",
        "colab": {
          "base_uri": "https://localhost:8080/"
        },
        "outputId": "ada1a10b-dc59-4d7c-a905-7d34e0656487"
      },
      "execution_count": null,
      "outputs": [
        {
          "output_type": "stream",
          "name": "stderr",
          "text": [
            "Obtaining company ratings: 100%|██████████| 1/1 [00:00<00:00,  9.35it/s]\n"
          ]
        }
      ]
    },
    {
      "cell_type": "code",
      "source": [
        "performance = companies.performance.collect_all_metrics()\n",
        "folder_path = os.path.join(download_dir, \"performance\")\n",
        "os.makedirs(folder_path, exist_ok=True)\n",
        "save_path = os.path.join(folder_path, f'{ticker}_performance.csv')\n",
        "performance.to_csv(save_path)"
      ],
      "metadata": {
        "id": "mliDTe7N2yZb"
      },
      "execution_count": null,
      "outputs": []
    },
    {
      "cell_type": "code",
      "source": [
        "risk = companies.risk.collect_all_metrics()\n",
        "folder_path = os.path.join(download_dir, \"risk\")\n",
        "os.makedirs(folder_path, exist_ok=True)\n",
        "save_path = os.path.join(folder_path, f'{ticker}_risk.csv')\n",
        "risk.to_csv(save_path)"
      ],
      "metadata": {
        "id": "iRG2VJJVzFTh"
      },
      "execution_count": null,
      "outputs": []
    },
    {
      "cell_type": "code",
      "source": [
        "fixedincome = companies.fixedincome.collect_bond_statistics()\n",
        "folder_path = os.path.join(download_dir, \"fixedincome\")\n",
        "os.makedirs(folder_path, exist_ok=True)\n",
        "save_path = os.path.join(folder_path, f'{ticker}_fixedincome.csv')\n",
        "fixedincome.to_csv(save_path)"
      ],
      "metadata": {
        "colab": {
          "base_uri": "https://localhost:8080/"
        },
        "id": "pP-1IvOMzvSN",
        "outputId": "588d5d9e-9210-451f-e142-f83344287b30"
      },
      "execution_count": null,
      "outputs": [
        {
          "output_type": "stream",
          "name": "stdout",
          "text": [
            "2025-07-04 03:28:19 - financetoolkit - INFO - Par Value: 100, Coupon Rate: 5.0%, Years to Maturity: 5, Yield to Maturity: 8.0%, Frequency: 1\n"
          ]
        },
        {
          "output_type": "stream",
          "name": "stderr",
          "text": [
            "INFO:financetoolkit:Par Value: 100, Coupon Rate: 5.0%, Years to Maturity: 5, Yield to Maturity: 8.0%, Frequency: 1\n"
          ]
        }
      ]
    },
    {
      "cell_type": "code",
      "source": [
        "options = companies.options.collect_all_greeks()\n",
        "folder_path = os.path.join(download_dir, \"options\")\n",
        "os.makedirs(folder_path, exist_ok=True)\n",
        "save_path = os.path.join(folder_path, f'{ticker}_options.csv')\n",
        "options.to_csv(save_path)"
      ],
      "metadata": {
        "id": "RqPcqdFm0TUv"
      },
      "execution_count": null,
      "outputs": []
    },
    {
      "cell_type": "code",
      "source": [
        "first_order_greeks = companies.options.collect_first_order_greeks()\n",
        "save_path = os.path.join(folder_path, f'{ticker}_first_order_greeks.csv')\n",
        "first_order_greeks.to_csv(save_path)"
      ],
      "metadata": {
        "id": "F68o1KG10skE"
      },
      "execution_count": null,
      "outputs": []
    },
    {
      "cell_type": "code",
      "source": [
        "second_order_greeks = companies.options.collect_second_order_greeks()\n",
        "save_path = os.path.join(folder_path, f'{ticker}_second_order_greeks.csv')\n",
        "second_order_greeks.to_csv(save_path)"
      ],
      "metadata": {
        "id": "6pbQf_ct00Qt"
      },
      "execution_count": null,
      "outputs": []
    },
    {
      "cell_type": "code",
      "source": [
        "third_order_greeks = companies.options.collect_third_order_greeks()\n",
        "save_path = os.path.join(folder_path, f'{ticker}_third_order_greeks.csv')\n",
        "third_order_greeks.to_csv(save_path)"
      ],
      "metadata": {
        "id": "hAxs7N_j6ZTf"
      },
      "execution_count": null,
      "outputs": []
    },
    {
      "cell_type": "code",
      "source": [
        "technicals = companies.technicals.collect_all_indicators()\n",
        "folder_path = os.path.join(download_dir, \"technicals\")\n",
        "os.makedirs(folder_path, exist_ok=True)\n",
        "save_path = os.path.join(folder_path, f'{ticker}_technicals.csv')\n",
        "technicals.to_csv(save_path)"
      ],
      "metadata": {
        "id": "FWBMTnTg6uH5"
      },
      "execution_count": null,
      "outputs": []
    },
    {
      "cell_type": "code",
      "source": [
        "breadth_indicators = companies.technicals.collect_breadth_indicators()\n",
        "save_path = os.path.join(folder_path, f'{ticker}_breadth_indicators.csv')\n",
        "breadth_indicators.to_csv(save_path)"
      ],
      "metadata": {
        "id": "kwAlySYD7ymq"
      },
      "execution_count": null,
      "outputs": []
    },
    {
      "cell_type": "code",
      "source": [
        "momentum_indicators = companies.technicals.collect_momentum_indicators()\n",
        "save_path = os.path.join(folder_path, f'{ticker}_momentum_indicators.csv')\n",
        "momentum_indicators.to_csv(save_path)"
      ],
      "metadata": {
        "id": "IIs2UZS48ATW"
      },
      "execution_count": null,
      "outputs": []
    },
    {
      "cell_type": "code",
      "source": [
        "overlap_indicators = companies.technicals.collect_overlap_indicators()\n",
        "save_path = os.path.join(folder_path, f'{ticker}_overlap_indicators.csv')\n",
        "overlap_indicators.to_csv(save_path)"
      ],
      "metadata": {
        "id": "gL5aCdF18EWZ"
      },
      "execution_count": null,
      "outputs": []
    },
    {
      "cell_type": "code",
      "source": [
        "volatility_indicators = companies.technicals.collect_volatility_indicators()\n",
        "save_path = os.path.join(folder_path, f'{ticker}_volatility_indicators.csv')\n",
        "volatility_indicators.to_csv(save_path)"
      ],
      "metadata": {
        "id": "mVCh2xlK8Hy9"
      },
      "execution_count": null,
      "outputs": []
    },
    {
      "cell_type": "code",
      "source": [
        "ticker = \"ARM\""
      ],
      "metadata": {
        "id": "gWV22MtA8Lt6"
      },
      "execution_count": null,
      "outputs": []
    },
    {
      "cell_type": "code",
      "source": [],
      "metadata": {
        "id": "8RP4paqfB0fA"
      },
      "execution_count": null,
      "outputs": []
    }
  ]
}