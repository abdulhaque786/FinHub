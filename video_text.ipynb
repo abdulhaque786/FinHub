{
  "cells": [
    {
      "cell_type": "code",
      "execution_count": null,
      "metadata": {
        "id": "3AhihmSDWvNQ",
        "colab": {
          "base_uri": "https://localhost:8080/",
          "height": 73
        },
        "outputId": "c68397da-9e8e-4f08-ed63-2531223bba3b"
      },
      "outputs": [
        {
          "output_type": "display_data",
          "data": {
            "text/plain": [
              "<IPython.core.display.HTML object>"
            ],
            "text/html": [
              "\n",
              "     <input type=\"file\" id=\"files-e2643f64-e89a-471b-a6a0-3502d41360ba\" name=\"files[]\" multiple disabled\n",
              "        style=\"border:none\" />\n",
              "     <output id=\"result-e2643f64-e89a-471b-a6a0-3502d41360ba\">\n",
              "      Upload widget is only available when the cell has been executed in the\n",
              "      current browser session. Please rerun this cell to enable.\n",
              "      </output>\n",
              "      <script>// Copyright 2017 Google LLC\n",
              "//\n",
              "// Licensed under the Apache License, Version 2.0 (the \"License\");\n",
              "// you may not use this file except in compliance with the License.\n",
              "// You may obtain a copy of the License at\n",
              "//\n",
              "//      http://www.apache.org/licenses/LICENSE-2.0\n",
              "//\n",
              "// Unless required by applicable law or agreed to in writing, software\n",
              "// distributed under the License is distributed on an \"AS IS\" BASIS,\n",
              "// WITHOUT WARRANTIES OR CONDITIONS OF ANY KIND, either express or implied.\n",
              "// See the License for the specific language governing permissions and\n",
              "// limitations under the License.\n",
              "\n",
              "/**\n",
              " * @fileoverview Helpers for google.colab Python module.\n",
              " */\n",
              "(function(scope) {\n",
              "function span(text, styleAttributes = {}) {\n",
              "  const element = document.createElement('span');\n",
              "  element.textContent = text;\n",
              "  for (const key of Object.keys(styleAttributes)) {\n",
              "    element.style[key] = styleAttributes[key];\n",
              "  }\n",
              "  return element;\n",
              "}\n",
              "\n",
              "// Max number of bytes which will be uploaded at a time.\n",
              "const MAX_PAYLOAD_SIZE = 100 * 1024;\n",
              "\n",
              "function _uploadFiles(inputId, outputId) {\n",
              "  const steps = uploadFilesStep(inputId, outputId);\n",
              "  const outputElement = document.getElementById(outputId);\n",
              "  // Cache steps on the outputElement to make it available for the next call\n",
              "  // to uploadFilesContinue from Python.\n",
              "  outputElement.steps = steps;\n",
              "\n",
              "  return _uploadFilesContinue(outputId);\n",
              "}\n",
              "\n",
              "// This is roughly an async generator (not supported in the browser yet),\n",
              "// where there are multiple asynchronous steps and the Python side is going\n",
              "// to poll for completion of each step.\n",
              "// This uses a Promise to block the python side on completion of each step,\n",
              "// then passes the result of the previous step as the input to the next step.\n",
              "function _uploadFilesContinue(outputId) {\n",
              "  const outputElement = document.getElementById(outputId);\n",
              "  const steps = outputElement.steps;\n",
              "\n",
              "  const next = steps.next(outputElement.lastPromiseValue);\n",
              "  return Promise.resolve(next.value.promise).then((value) => {\n",
              "    // Cache the last promise value to make it available to the next\n",
              "    // step of the generator.\n",
              "    outputElement.lastPromiseValue = value;\n",
              "    return next.value.response;\n",
              "  });\n",
              "}\n",
              "\n",
              "/**\n",
              " * Generator function which is called between each async step of the upload\n",
              " * process.\n",
              " * @param {string} inputId Element ID of the input file picker element.\n",
              " * @param {string} outputId Element ID of the output display.\n",
              " * @return {!Iterable<!Object>} Iterable of next steps.\n",
              " */\n",
              "function* uploadFilesStep(inputId, outputId) {\n",
              "  const inputElement = document.getElementById(inputId);\n",
              "  inputElement.disabled = false;\n",
              "\n",
              "  const outputElement = document.getElementById(outputId);\n",
              "  outputElement.innerHTML = '';\n",
              "\n",
              "  const pickedPromise = new Promise((resolve) => {\n",
              "    inputElement.addEventListener('change', (e) => {\n",
              "      resolve(e.target.files);\n",
              "    });\n",
              "  });\n",
              "\n",
              "  const cancel = document.createElement('button');\n",
              "  inputElement.parentElement.appendChild(cancel);\n",
              "  cancel.textContent = 'Cancel upload';\n",
              "  const cancelPromise = new Promise((resolve) => {\n",
              "    cancel.onclick = () => {\n",
              "      resolve(null);\n",
              "    };\n",
              "  });\n",
              "\n",
              "  // Wait for the user to pick the files.\n",
              "  const files = yield {\n",
              "    promise: Promise.race([pickedPromise, cancelPromise]),\n",
              "    response: {\n",
              "      action: 'starting',\n",
              "    }\n",
              "  };\n",
              "\n",
              "  cancel.remove();\n",
              "\n",
              "  // Disable the input element since further picks are not allowed.\n",
              "  inputElement.disabled = true;\n",
              "\n",
              "  if (!files) {\n",
              "    return {\n",
              "      response: {\n",
              "        action: 'complete',\n",
              "      }\n",
              "    };\n",
              "  }\n",
              "\n",
              "  for (const file of files) {\n",
              "    const li = document.createElement('li');\n",
              "    li.append(span(file.name, {fontWeight: 'bold'}));\n",
              "    li.append(span(\n",
              "        `(${file.type || 'n/a'}) - ${file.size} bytes, ` +\n",
              "        `last modified: ${\n",
              "            file.lastModifiedDate ? file.lastModifiedDate.toLocaleDateString() :\n",
              "                                    'n/a'} - `));\n",
              "    const percent = span('0% done');\n",
              "    li.appendChild(percent);\n",
              "\n",
              "    outputElement.appendChild(li);\n",
              "\n",
              "    const fileDataPromise = new Promise((resolve) => {\n",
              "      const reader = new FileReader();\n",
              "      reader.onload = (e) => {\n",
              "        resolve(e.target.result);\n",
              "      };\n",
              "      reader.readAsArrayBuffer(file);\n",
              "    });\n",
              "    // Wait for the data to be ready.\n",
              "    let fileData = yield {\n",
              "      promise: fileDataPromise,\n",
              "      response: {\n",
              "        action: 'continue',\n",
              "      }\n",
              "    };\n",
              "\n",
              "    // Use a chunked sending to avoid message size limits. See b/62115660.\n",
              "    let position = 0;\n",
              "    do {\n",
              "      const length = Math.min(fileData.byteLength - position, MAX_PAYLOAD_SIZE);\n",
              "      const chunk = new Uint8Array(fileData, position, length);\n",
              "      position += length;\n",
              "\n",
              "      const base64 = btoa(String.fromCharCode.apply(null, chunk));\n",
              "      yield {\n",
              "        response: {\n",
              "          action: 'append',\n",
              "          file: file.name,\n",
              "          data: base64,\n",
              "        },\n",
              "      };\n",
              "\n",
              "      let percentDone = fileData.byteLength === 0 ?\n",
              "          100 :\n",
              "          Math.round((position / fileData.byteLength) * 100);\n",
              "      percent.textContent = `${percentDone}% done`;\n",
              "\n",
              "    } while (position < fileData.byteLength);\n",
              "  }\n",
              "\n",
              "  // All done.\n",
              "  yield {\n",
              "    response: {\n",
              "      action: 'complete',\n",
              "    }\n",
              "  };\n",
              "}\n",
              "\n",
              "scope.google = scope.google || {};\n",
              "scope.google.colab = scope.google.colab || {};\n",
              "scope.google.colab._files = {\n",
              "  _uploadFiles,\n",
              "  _uploadFilesContinue,\n",
              "};\n",
              "})(self);\n",
              "</script> "
            ]
          },
          "metadata": {}
        },
        {
          "output_type": "stream",
          "name": "stdout",
          "text": [
            "Saving ROIC.mp4 to ROIC.mp4\n"
          ]
        }
      ],
      "source": [
        "from google.colab import files\n",
        "df1 = files.upload()"
      ]
    },
    {
      "cell_type": "code",
      "execution_count": null,
      "metadata": {
        "colab": {
          "base_uri": "https://localhost:8080/"
        },
        "id": "zI1fZzMBee1H",
        "outputId": "9615d807-6400-4964-d15d-206464fd4eb8"
      },
      "outputs": [
        {
          "name": "stdout",
          "output_type": "stream",
          "text": [
            "Requirement already satisfied: moviepy in /usr/local/lib/python3.11/dist-packages (1.0.3)\n",
            "Requirement already satisfied: decorator<5.0,>=4.0.2 in /usr/local/lib/python3.11/dist-packages (from moviepy) (4.4.2)\n",
            "Requirement already satisfied: tqdm<5.0,>=4.11.2 in /usr/local/lib/python3.11/dist-packages (from moviepy) (4.67.1)\n",
            "Requirement already satisfied: requests<3.0,>=2.8.1 in /usr/local/lib/python3.11/dist-packages (from moviepy) (2.32.3)\n",
            "Requirement already satisfied: proglog<=1.0.0 in /usr/local/lib/python3.11/dist-packages (from moviepy) (0.1.12)\n",
            "Requirement already satisfied: numpy>=1.17.3 in /usr/local/lib/python3.11/dist-packages (from moviepy) (2.0.2)\n",
            "Requirement already satisfied: imageio<3.0,>=2.5 in /usr/local/lib/python3.11/dist-packages (from moviepy) (2.37.0)\n",
            "Requirement already satisfied: imageio-ffmpeg>=0.2.0 in /usr/local/lib/python3.11/dist-packages (from moviepy) (0.6.0)\n",
            "Requirement already satisfied: pillow>=8.3.2 in /usr/local/lib/python3.11/dist-packages (from imageio<3.0,>=2.5->moviepy) (11.3.0)\n",
            "Requirement already satisfied: charset-normalizer<4,>=2 in /usr/local/lib/python3.11/dist-packages (from requests<3.0,>=2.8.1->moviepy) (3.4.2)\n",
            "Requirement already satisfied: idna<4,>=2.5 in /usr/local/lib/python3.11/dist-packages (from requests<3.0,>=2.8.1->moviepy) (3.10)\n",
            "Requirement already satisfied: urllib3<3,>=1.21.1 in /usr/local/lib/python3.11/dist-packages (from requests<3.0,>=2.8.1->moviepy) (2.5.0)\n",
            "Requirement already satisfied: certifi>=2017.4.17 in /usr/local/lib/python3.11/dist-packages (from requests<3.0,>=2.8.1->moviepy) (2025.8.3)\n"
          ]
        }
      ],
      "source": [
        "pip install moviepy"
      ]
    },
    {
      "cell_type": "code",
      "execution_count": null,
      "metadata": {
        "colab": {
          "base_uri": "https://localhost:8080/"
        },
        "id": "tTiDNbjgeipz",
        "outputId": "77eedc6a-7674-494f-ef6a-9c012346b362"
      },
      "outputs": [
        {
          "output_type": "stream",
          "name": "stdout",
          "text": [
            "Collecting SpeechRecognition\n",
            "  Downloading speechrecognition-3.14.3-py3-none-any.whl.metadata (30 kB)\n",
            "Requirement already satisfied: typing-extensions in /usr/local/lib/python3.12/dist-packages (from SpeechRecognition) (4.15.0)\n",
            "Downloading speechrecognition-3.14.3-py3-none-any.whl (32.9 MB)\n",
            "\u001b[2K   \u001b[90m━━━━━━━━━━━━━━━━━━━━━━━━━━━━━━━━━━━━━━━━\u001b[0m \u001b[32m32.9/32.9 MB\u001b[0m \u001b[31m48.2 MB/s\u001b[0m eta \u001b[36m0:00:00\u001b[0m\n",
            "\u001b[?25hInstalling collected packages: SpeechRecognition\n",
            "Successfully installed SpeechRecognition-3.14.3\n"
          ]
        }
      ],
      "source": [
        "pip install SpeechRecognition"
      ]
    },
    {
      "cell_type": "code",
      "execution_count": null,
      "metadata": {
        "colab": {
          "base_uri": "https://localhost:8080/"
        },
        "id": "jcDnCMSo7pZH",
        "outputId": "403951b0-06f6-46ad-8afa-6e6b0b38d8ba"
      },
      "outputs": [
        {
          "output_type": "stream",
          "name": "stdout",
          "text": [
            "Collecting openai-whisper\n",
            "  Downloading openai_whisper-20250625.tar.gz (803 kB)\n",
            "\u001b[?25l     \u001b[90m━━━━━━━━━━━━━━━━━━━━━━━━━━━━━━━━━━━━━━━━\u001b[0m \u001b[32m0.0/803.2 kB\u001b[0m \u001b[31m?\u001b[0m eta \u001b[36m-:--:--\u001b[0m\r\u001b[2K     \u001b[91m━━━━━━━━━━━━━━━━━━━━━━━\u001b[0m\u001b[90m╺\u001b[0m\u001b[90m━━━━━━━━━━━━━━\u001b[0m \u001b[32m491.5/803.2 kB\u001b[0m \u001b[31m16.2 MB/s\u001b[0m eta \u001b[36m0:00:01\u001b[0m\r\u001b[2K     \u001b[90m━━━━━━━━━━━━━━━━━━━━━━━━━━━━━━━━━━━━━━\u001b[0m \u001b[32m803.2/803.2 kB\u001b[0m \u001b[31m14.9 MB/s\u001b[0m eta \u001b[36m0:00:00\u001b[0m\n",
            "\u001b[?25h  Installing build dependencies ... \u001b[?25l\u001b[?25hdone\n",
            "  Getting requirements to build wheel ... \u001b[?25l\u001b[?25hdone\n",
            "  Preparing metadata (pyproject.toml) ... \u001b[?25l\u001b[?25hdone\n",
            "Requirement already satisfied: more-itertools in /usr/local/lib/python3.12/dist-packages (from openai-whisper) (10.8.0)\n",
            "Requirement already satisfied: numba in /usr/local/lib/python3.12/dist-packages (from openai-whisper) (0.60.0)\n",
            "Requirement already satisfied: numpy in /usr/local/lib/python3.12/dist-packages (from openai-whisper) (2.0.2)\n",
            "Requirement already satisfied: tiktoken in /usr/local/lib/python3.12/dist-packages (from openai-whisper) (0.11.0)\n",
            "Requirement already satisfied: torch in /usr/local/lib/python3.12/dist-packages (from openai-whisper) (2.8.0+cu126)\n",
            "Requirement already satisfied: tqdm in /usr/local/lib/python3.12/dist-packages (from openai-whisper) (4.67.1)\n",
            "Requirement already satisfied: triton>=2 in /usr/local/lib/python3.12/dist-packages (from openai-whisper) (3.4.0)\n",
            "Requirement already satisfied: setuptools>=40.8.0 in /usr/local/lib/python3.12/dist-packages (from triton>=2->openai-whisper) (75.2.0)\n",
            "Requirement already satisfied: llvmlite<0.44,>=0.43.0dev0 in /usr/local/lib/python3.12/dist-packages (from numba->openai-whisper) (0.43.0)\n",
            "Requirement already satisfied: regex>=2022.1.18 in /usr/local/lib/python3.12/dist-packages (from tiktoken->openai-whisper) (2024.11.6)\n",
            "Requirement already satisfied: requests>=2.26.0 in /usr/local/lib/python3.12/dist-packages (from tiktoken->openai-whisper) (2.32.4)\n",
            "Requirement already satisfied: filelock in /usr/local/lib/python3.12/dist-packages (from torch->openai-whisper) (3.19.1)\n",
            "Requirement already satisfied: typing-extensions>=4.10.0 in /usr/local/lib/python3.12/dist-packages (from torch->openai-whisper) (4.15.0)\n",
            "Requirement already satisfied: sympy>=1.13.3 in /usr/local/lib/python3.12/dist-packages (from torch->openai-whisper) (1.13.3)\n",
            "Requirement already satisfied: networkx in /usr/local/lib/python3.12/dist-packages (from torch->openai-whisper) (3.5)\n",
            "Requirement already satisfied: jinja2 in /usr/local/lib/python3.12/dist-packages (from torch->openai-whisper) (3.1.6)\n",
            "Requirement already satisfied: fsspec in /usr/local/lib/python3.12/dist-packages (from torch->openai-whisper) (2025.3.0)\n",
            "Requirement already satisfied: nvidia-cuda-nvrtc-cu12==12.6.77 in /usr/local/lib/python3.12/dist-packages (from torch->openai-whisper) (12.6.77)\n",
            "Requirement already satisfied: nvidia-cuda-runtime-cu12==12.6.77 in /usr/local/lib/python3.12/dist-packages (from torch->openai-whisper) (12.6.77)\n",
            "Requirement already satisfied: nvidia-cuda-cupti-cu12==12.6.80 in /usr/local/lib/python3.12/dist-packages (from torch->openai-whisper) (12.6.80)\n",
            "Requirement already satisfied: nvidia-cudnn-cu12==9.10.2.21 in /usr/local/lib/python3.12/dist-packages (from torch->openai-whisper) (9.10.2.21)\n",
            "Requirement already satisfied: nvidia-cublas-cu12==12.6.4.1 in /usr/local/lib/python3.12/dist-packages (from torch->openai-whisper) (12.6.4.1)\n",
            "Requirement already satisfied: nvidia-cufft-cu12==11.3.0.4 in /usr/local/lib/python3.12/dist-packages (from torch->openai-whisper) (11.3.0.4)\n",
            "Requirement already satisfied: nvidia-curand-cu12==10.3.7.77 in /usr/local/lib/python3.12/dist-packages (from torch->openai-whisper) (10.3.7.77)\n",
            "Requirement already satisfied: nvidia-cusolver-cu12==11.7.1.2 in /usr/local/lib/python3.12/dist-packages (from torch->openai-whisper) (11.7.1.2)\n",
            "Requirement already satisfied: nvidia-cusparse-cu12==12.5.4.2 in /usr/local/lib/python3.12/dist-packages (from torch->openai-whisper) (12.5.4.2)\n",
            "Requirement already satisfied: nvidia-cusparselt-cu12==0.7.1 in /usr/local/lib/python3.12/dist-packages (from torch->openai-whisper) (0.7.1)\n",
            "Requirement already satisfied: nvidia-nccl-cu12==2.27.3 in /usr/local/lib/python3.12/dist-packages (from torch->openai-whisper) (2.27.3)\n",
            "Requirement already satisfied: nvidia-nvtx-cu12==12.6.77 in /usr/local/lib/python3.12/dist-packages (from torch->openai-whisper) (12.6.77)\n",
            "Requirement already satisfied: nvidia-nvjitlink-cu12==12.6.85 in /usr/local/lib/python3.12/dist-packages (from torch->openai-whisper) (12.6.85)\n",
            "Requirement already satisfied: nvidia-cufile-cu12==1.11.1.6 in /usr/local/lib/python3.12/dist-packages (from torch->openai-whisper) (1.11.1.6)\n",
            "Requirement already satisfied: charset_normalizer<4,>=2 in /usr/local/lib/python3.12/dist-packages (from requests>=2.26.0->tiktoken->openai-whisper) (3.4.3)\n",
            "Requirement already satisfied: idna<4,>=2.5 in /usr/local/lib/python3.12/dist-packages (from requests>=2.26.0->tiktoken->openai-whisper) (3.10)\n",
            "Requirement already satisfied: urllib3<3,>=1.21.1 in /usr/local/lib/python3.12/dist-packages (from requests>=2.26.0->tiktoken->openai-whisper) (2.5.0)\n",
            "Requirement already satisfied: certifi>=2017.4.17 in /usr/local/lib/python3.12/dist-packages (from requests>=2.26.0->tiktoken->openai-whisper) (2025.8.3)\n",
            "Requirement already satisfied: mpmath<1.4,>=1.1.0 in /usr/local/lib/python3.12/dist-packages (from sympy>=1.13.3->torch->openai-whisper) (1.3.0)\n",
            "Requirement already satisfied: MarkupSafe>=2.0 in /usr/local/lib/python3.12/dist-packages (from jinja2->torch->openai-whisper) (3.0.2)\n",
            "Building wheels for collected packages: openai-whisper\n",
            "  Building wheel for openai-whisper (pyproject.toml) ... \u001b[?25l\u001b[?25hdone\n",
            "  Created wheel for openai-whisper: filename=openai_whisper-20250625-py3-none-any.whl size=803979 sha256=051f973c6e563bd2d00f66a4086351ba795e85609fe93d58f48c2f99fe0fb70f\n",
            "  Stored in directory: /root/.cache/pip/wheels/61/d2/20/09ec9bef734d126cba375b15898010b6cc28578d8afdde5869\n",
            "Successfully built openai-whisper\n",
            "Installing collected packages: openai-whisper\n",
            "Successfully installed openai-whisper-20250625\n"
          ]
        }
      ],
      "source": [
        "pip install openai-whisper"
      ]
    },
    {
      "cell_type": "code",
      "execution_count": null,
      "metadata": {
        "colab": {
          "base_uri": "https://localhost:8080/"
        },
        "id": "LeKVxcr87qZu",
        "outputId": "86558f29-17fe-42ec-e28d-16590f54184d"
      },
      "outputs": [
        {
          "output_type": "stream",
          "name": "stderr",
          "text": [
            "WARNING:py.warnings:/usr/local/lib/python3.12/dist-packages/whisper/transcribe.py:132: UserWarning: FP16 is not supported on CPU; using FP32 instead\n",
            "  warnings.warn(\"FP16 is not supported on CPU; using FP32 instead\")\n",
            "\n"
          ]
        },
        {
          "output_type": "stream",
          "name": "stdout",
          "text": [
            " Hi, when you look at a company and try to analyze one of the first questions or fundamental questions you need to answer to is whether the company's existing investments are good investments or not. And part of the reason you need to answer that question is before you value this company and you forecast out what the company will look like in the future, you need to get a sense of what it's done in the past. And one of the simplest ways to answer that question, whether the existing investments are good investments or bad investments, perhaps even simplistic way, is to compute an accounting return on those investments. I know I'm not a great fan of accountants and I mistrust many accounting numbers, but this is one of the few places in finance where you're at the mercy of accountants and you got to take what they give you. So today's session I'd like to talk about computing accounting returns, return an invested capital, return an equity, not cash return an equity, what the numbers are that feed into them and how to perhaps read them. The company I'm going to use to illustrate this is Walmart. Part of the reason I'm going to use Walmart is because there's many of the issues that you talk that that be devalue when you try to compute accounting returns. And the place I'm going to start is the most recent 10K for Walmart. So we're sitting in March of 2013. This is the 10K as of January 31st of 2013. So this is as fresh a 10K as you're going to get. So I start with the income statement on page 66 of this 10K. I'm going to open up an Excel spreadsheet on the side as I go through so you can see the numbers feeding into my return and capital. What are the numbers I'm pulling off the income statement? The first number I'm going to pull off is operating income. So you see that highlighted. So I enter that operating income from the most recent year. The next number I look at is actually the taxable income. So basically the taxable income is listed right in the same income statement. You can see that listed right there. So I put the taxable income. Then I ask you for taxes. And if you look at Walmart, they're pretty good to actually specify what their accrual taxes are going to be. $7,981 million. I enter that as my taxes paid. I'm actually going to compute the effective tax rate for Walmart by taking the taxes paid divided by taxable income. Those both come off the accrual income statement. So that's the effect that's the effective tax rate. Now I could have cheated and looked up the effective tax rate, which is reported elsewhere by Walmart in the 10K. I actually prefer to do it this way, where I take the taxes paid and divide by taxable income in the income statement because it gives me a little more control over the process. I also look up the net income, which is right at the bottom. You know, 16,000, 16,000, 999. I'm almost home. There are two other numbers that I'd like to know. In the case of Walmart, they made my life easy for me. One is the interest income that the company made on its cash and marketable securities. See the minus 187 there. It's $187 million in income. And right above it are the interest expenses. And they're broken up into two parts. Interest expenses from conventional debt and interest expenses from capital leases. I add them up to put them as interest expense in the debt. A little what if what if your company does not report interest income from cash on its income statement? Many companies don't. If you can find it elsewhere in the 10K or annual report, go for it. If you cannot find it estimated and here's how I'd estimate it. Take the cash balance, multiply it by whatever the short term riskless of government rate is right now. So in the US, that's going to be 0.1.2%. Get the income. Throw that in there. Move on. Don't get stuck just because you cannot find the interest income on cash. Words comes to us. Enter zero. The process will still go through. So that's it. Those are all the numbers I need from the income statement. Let me move on to the balance sheet. In the balance sheet, the first thing I'm going to emphasize is it's not this year's balance sheet. It's the last year's balance sheet. Let me try to explain why I'm going to do this. When I try to compute the return on invested capital that Walmart made during 2012, I'm going to argue that they could not have made money on capital invested towards the end of 2012. The story open on December 27th of 2012 is not going to pay off in 2012. So to be fair to Walmart, I'm going to go back and look at the capital aid invested at the start of the year. There are variations. Some people use the average capital over the year. I actually try to keep it simple. I just go back to the previous year. So in this case, I'm going to go back to the 2000 and January 2012 numbers, which is in the, luckily from in the same 10K and pull those numbers. What are the numbers I need? I start on the assets out of the balance sheet. I need cash. That's easy. Cash and coins and equivalents, 6550. I'm going to put that in as my first number. I also would like to know how much the company reported as goodwill, which of course is the debris from accounting, but I still from a, from accounting from acquisitions, the goodwill is 20,651. Then I'm going to ask you a question that for the moment might seem a series of it seems mysterious. Skip it. I said, do you have R&D expenses that you want me to capitalize? Little later in this process, maybe in the valuation class, we will talk about why R&D has to be capitalized. Why with technology companies and pharmaceutical companies ignoring it will give you too low and invested capital. You're not sure what you're doing just to enter, no, and move on. If you have R&D expenses to be capitalized and you enter, yes, you'd see if you go down the worksheets at the bottom of the spreadsheet, there is an R&D converter built into the spreadsheet that allows you to convert R&D expenses into capital. But as I said, if you're not sure what you're doing, just to enter, no, there, and move on. The next set of items that I'm going to ask for comes from the library side of the balance sheet. So let me move to the library side of the balance sheet. I need to know how much you have in short term interest bearing debt. Now that's usually going to be under current libraries, but not all items under current libraries will qualify a short term debt. In fact, in the case of Walmart, there are three items. I'm going to treat a short term debt. One is short term borrowing, obviously. The second is long term debt due within a year, and the third is capitalizes due within a year. So you add those three numbers up. You come up with a short term debt number for Walmart. So the long term debt, I'm going to count two items. One is the conventional long term debt. The other is long term lease obligations, capital lease obligations. You add those two numbers up. I have long term interest bearing debt. And I ask you for shareholders equity. And there are a bunch of numbers here. And you might wonder which one I'm asking for. If you look at Walmart, they report a shareholder's equity for the company of $71,315, and then they report a minority interest, $446 million. So I'm going to separate the two because I think that those should both be factored into shareholder's equity. But those are the two numbers that you see as shareholder's equity. Here again, I give you a chance to kind of clean up the outstanding debt, especially you have lease commitments outstanding. If you have lease commitments outstanding and you enter yes here, there are two lease worksheets. And I ask you to fill out. I know it sounds like a pain in the neck, but I'll explain why. One is a lease convertor worksheet for the current year. And you can pull the numbers. It's on page 92 of the same 10K. You can see the numbers fill up. So basically those are the numbers reflecting what the commitments are in the most recent 10K and the current and the most recent years lease payment. So you're going to enter that. I'm also going to ask for the lease commitments from the previous year, which is a bit of a pain in the neck because you have to go back to the previous years 10K, which I did. And the previous year is 10K on page 76 of the 10K. I'm sorry. On page 76 of the 10K, you're going to see the lease commitments from the previous year. So I'm going to enter the lease commitments from last year, 2400. You can see the numbers match up. So if you have lease commitments, make sure you fill out both worksheets. You're saying, what if I don't have last year's 10K, then don't worry about it. Just enter the current year's numbers for both worksheets. It's going to be close enough. Then I ask you, is there a call pretext cost of debt? And if you either have a rating, you can enter that the cost of debt corresponding to the rating. Or if you don't have a rating, you can compute a synthetic rating. And we talked about that a couple of weeks ago and enter the pretext cost of debt based on that. We're almost home. So we've got the pretext cost of debt. Then I ask you three questions to allow me to finesse the invested capital and return on capital. First, ask you what tax rate you want me to use to compute your after tax return on capital. Remember that you enter the taxes due and the taxable income based on that I compute an effective tax rate of 31.01% for Walmart. Now normally when you compute after tax return on capital, you tend to use the effective tax rate. But that might sometimes overstate your return invested capital, especially if you feel a tax rate is going to bounce back up to some higher level. So I give you a chance to fix that if need be. If you feel for an instance that the current effective tax rate is not the right tax rate to use going forward, you can enter no here and enter whatever you think the tax rate will be on future income. Then I ask you about goodwill. Currently speaking, goodwill is taken out of invested capital. When I compute invested capital, I subtract out goodwill from invested capital. The rationale for this is goodwill is really investments in future growth assets of the companies you acquired. And it's not fair for me to ask you to make money operating income now on investments you haven't even thought about yet. That's a logic, but let's face it, goodwill also includes overpayment for companies. So if you overpay for companies in there. So the argument can be made that ignoring all of goodwill might be too dangerous and that some of the goodwill should be left in invested capital. Again, the default assumption here is don't mess with it, just leave it as is. So but if you say no to this assumption, you want to change the assumption, then tell me what percentage of the goodwill you want to leave in invested capital. So if you say 10%, I will leave. So in this case, we'll say 100%. I'll leave the entire goodwill in invested capital, make it a much larger number. I'm actually going to leave this at yes, because unless I have a serious reason to worry about goodwill, it's best to net it out of invested capital. Then I ask you about cash. The traditional practice again is you take cash out of invested capital, use net debt when you compute invested capital. Here again, you might disagree if you have a company which needs cash for operations, you might feel that some of the cash, not all of it may be, but some of it should be left in invested capital. Here again, if you want to change the assumption, you have to enter no here and enter the, and if you enter no, tell me what percentage of that cash you want to leave in the invested capital. So if you say 20%, I'll take 20% of your cash balance and leave it in invested capital. That's pretty much it. Those are the inputs. Let me take you through the output part of the process. Let me start with the least converters. First thing I do with the least commitments is I compute the present value of least commitments. So there are the present value of least commitments. And I do that for both last year and this year. Keep track of that present value because that's not going to show up as part of debt when I do invested capital. I also compute the adjustment I will need to make to operating. You're saying, what are you talking about? Well, if I decide to treat leases as debt, then I shouldn't be subtracting it out to get to operating income. Right? So I should be adding back the least expense. But there's a catch. If I capitalize leases, I'm also going to get an asset that I'm going to depreciate. So here's what's going to happen. I'm going to add back the least expense for the most recent year for instance. I'd add back the $2.6 billion in least expense to my operating income because I should never have subtracted it out. But based on the present value of my leases and the life of the least commitments, I come up with a depreciation of 1.3 billion that I will be subtracting out. So let me cut to the chase and take you through the accounting return calculator. I'm going to compute three measures of accounting return, a return invested capital, a return in equity and a non cash return in equity. Let's start with the return invested capital. I start with your stated operating income. If you have leases, I do the adjustment I just talked about using the most recent years numbers. That's why I need the lease commitments for both years is the adjustment to the current year's operating income is going to be based on the lease commitments for the current year. So I'm going to add back the lease expense subtract out the depreciation. If you have R&D expenses, as I said, I will adjust for that as well. In this case, Walmart obviously doesn't do much R&D. So it's not a big deal. So I had back the adjustment for the lease expenses and now have a new adjusted operating income. Then I picked the tax rate. And if you decided to change your marginal tax rate, here's how you, here's the place you'd notice it. In this case, I've decided to stay with the effective tax rate of 31.01 percent, which is the current effective tax rate to come up with an after tax operating income. One little glitch when you capitalize R&D and again, don't worry about this. We have no idea what I'm talking about. But when you capitalize R&D, you replace an R&D expense. It's fully tax deductible with an amortization that's a smaller number. And therefore you lose some tax benefits if you're not careful. So if you capitalize R&D expense, I clean up for that to come up with your after tax operating income. So the number that I think is the most reliable estimate of after tax operating income for Walmart is that 20.067 billion that you see as my adjusted number. Now to get the invested capital, I start with the book value interest bearing debt that includes for short term debt and long term debt. I add the book value equity. That includes that that's basically the most, you know, that's that's the book value. So both the debt and the equity are coming from the end of the most from one year prior. I subtract. I add back minority interest. Why do I do this? If I'm looking at operating income, that operating income reflects 100% because there's consolidation reflects 100% of the income of a subsidiary. So the minority interest in that subsidiary should be added in to get a more consistent measure of the equity invested in both companies put together. It's a little detail, but it can make a difference in your return capital. Then I subtract out good world subtract out cash. The conventional adjustments to come up with invested capital. Then I do some adjustments. If you capitalize leases, I look at the present value of elise commitments, but here's why I needed last year's numbers because these are all as of last year. I have to do the present value of lease commitments from the most recent year. That's why I said if you don't have the most recent year or said from the previous year, the lease commitments in the previous year, if you don't have the previous year, just go with the most recent year. So that's a 14, 134. If you'd capitalize R&D, you'd have seen an add-on here to reflect the capitalize R&D. Then remember those two options I gave you to either add back goodwill or cash. In the case of Wal-Mite, I decided not to use either option, but if you'd said I want to keep the invested capital, the goodwill in the invested capital. Some of the cash in the invested capital here is where you'd have seen the difference. The total invested capital that you see there are 116.121 billion is my estimate of what I think has been invested by Wal-Martin in its existing investments. Let's back up though. Based on these numbers, here's what it looks like Wal-Mart has done. It's got about $116 billion in investment in its existing assets. It's making about $20.067 billion in after tax operating income on those assets. You divide the $20.067 billion by the $116 billion. You get a return on invested capital of 17.28%. Is that a good return on capital? I think so. In fact, the number you'd compare it to is the cost to capital for Wal-Mart. Cost to capital for Wal-Mart is about 7.5%. They're making about 10% more than the cost to capital. Why? They're a good company. They've got competitive advantages, economies have scaled that they utilize well. Now, just to contrast, I have compared it to the return invested capital. If you make no adjustments, in other words, if you don't capitalize leases, you do the conventional after tax operating income, the shortcut. If after tax operating income divided by invested capital, you get a higher number, not by a huge amount for Wal-Mart, but with some companies when you make the adjustments, the difference is going to be fairly large. We complete the story. It's not just return on capital. I want to talk about it. I also want to talk about return and equity. To get to return and equity, I'm going to start with a stated net income. The $16,999. If I had R&D expenses, I'd be adjusting the net income. You're saying, what happens to leases? Leases don't affect net income. Leases are just a fin- you're replacing an operating expense with a financial expense. Net income is going to be immune to lease adjustments. The only adjustment I have to think about is R&D. Since Wal-Mart has no R&D, there's no adjustment to make. The adjusted net income is equal to the stated net income. For the book value equity, I do pretty much the same thing I did for invested capital. I subtract our goodwill to get an adjusted book value equity. If I had capitalized R&D and I decide to add back goodwill, here's the place I'd have done it. Again, in the case of Wal-Mart, there's no adjustment to make. If I take the net income and divide it by the book value equity, the return and equity that I get, the adjusted return equity I get for Wal-Mart, is a pretty impressive number 33.55%. What would I compare that to? I'd compare that to the cost of equity for Wal-Mart as a company. But since equity could be invested in an operating assets within the case of Wal-Mart of stores or in cash, I also compute in a non-cash return and equity. A return invested capital is always non-cash because I'm focusing on operating income and I'm focusing on invested capital net of cash. But a traditional return equity has net income that includes cash income income from cash and a book value equity that includes a cash balance. So I have a very in turn that called non-cash return equity. And here's what I do. I start with the stated net income. I subtract from that. Remember on the previous page, I'd ask you for the interest income from cash. This is why I needed that. I subtract from the stated net income. The after tax interest income. Why after tax? Because net income is already after taxes. And if I do make income from my cash balance, I have to pay taxes on this. I use the effective tax rate or whatever you chose as your tax rate to come up with the after tax income. I subtract that out because I don't want to count the income from cash. And when I subtract that, I come up with a net income from non-cash assets. Then again, if there's R&D, I'd adjust for the R&D. In the case of Wal-Mart, there's none. So the adjusted net income I have for Wal-Mart is only mildly different from the stated net income because they don't make that much income from cash. For the book value equity, I subtract out goodwill and now subtract out cash. And if you want me to add back goodwill a cash, I do that as well. I come up with an adjusted book value equity. And this is book value equity in the non-cash assets. You divide the non-cash net income by the non-cash book value equity. You come up with a non-cash return equity. That non-cash return equity can be compared to the return and equity on just your operating assets in Wal-Mart. When we talked about levied betas for just the operating assets and levied betas for the entire company, that's why we keep track of all of those different numbers. So let's review. If you are looking at a company you'd like to figure out whether the return investment capital and turn equity are good numbers. And good numbers relative to the cost of capital and cost of equity. To do that, you need at least one year of financial statements preferably two. And the return investment capital return equity are computed. This year's income and dividing by the invested capital from the end of the previous year. Other companies that could give you trouble, sure. If you do this for Apple, one of the problems you're going to run into, especially when you net cash out from the book values, you can end up with negative invested capital. It's a huge pain in the neck. Not much you can do other than pick that choice, that option of counting some of the cash as part of invested capital. But the bottom line is with return capital and return equity, you are trusting accounting numbers to reflect what's going on. And whatever accountants do to those numbers, whether they decrease structuring charges or write off items can affect your return equity and return capital, leading to some strange looking numbers. So if you have negative invested capital or negative book value equity, both of which can happen. Computing accounting returns becomes meaningless. Just put not meaningful and move on. You've lost one piece of input you would have used to assess the company, but not much you can do about it. So when you get a chance, pick up a company, pick up a annual of its financial statements, work out its accounting returns. It's a good place to start in assessing whether this company has been well managed in the past.\n"
          ]
        }
      ],
      "source": [
        "import whisper\n",
        "\n",
        "model = whisper.load_model(\"base\")  # or \"small\", \"medium\", \"large\"\n",
        "result = model.transcribe(\"ROIC.mp4\")\n",
        "print(result[\"text\"])\n"
      ]
    },
    {
      "cell_type": "code",
      "execution_count": null,
      "metadata": {
        "colab": {
          "base_uri": "https://localhost:8080/"
        },
        "id": "l4uZ1FFuenQQ",
        "outputId": "82f2ad66-9b47-424f-cace-1cd3835a0551"
      },
      "outputs": [
        {
          "output_type": "stream",
          "name": "stdout",
          "text": [
            "MoviePy - Writing audio in extracted_audio.wav\n"
          ]
        },
        {
          "output_type": "stream",
          "name": "stderr",
          "text": []
        },
        {
          "output_type": "stream",
          "name": "stdout",
          "text": [
            "MoviePy - Done.\n",
            "Full Transcription:\n",
            " hi when you look at a company and try to analyze it one of the first questions or fundamental questions you need to answer to is whether the company's existing Investments are good Investments or not and part of the reason you need the answer to that question is before you value this company new forecast out what the company will look like in the future you need to get a sense of what it's done in the past and one of the simplest ways to answer that question whether the existing Investments are good Investments or bad Investments perhaps even simplistic way is to compute an accounting return on those Investments I know I'm not a great fan of accountants and I'm mistress many accounting numbers but this is one of the few places in finance where you're at the mercy of accountants I'd like to talk about Computing what the numbers are that feed into them and how to perhaps read them the company when you used to illustrate this is Walmart part of the reason I'm going to use Walmart is because does many of the issues that you talk that that the devil you when you try to computer counting returns and the place I'm going to start is the most recent 10K for Walmart so we're sitting in March of 2013 this is the 10K as of January 31st 2013 so this is a fresher 10 cares you're going to get so I start with the income statement on page 66 of this 10K I'm going to open up an Excel spreadsheet on the side as I go through so you can see the numbers feeding into my return on Capital what are the numbers I'm pulling off the income statement the first number I'm going to pull off is operating system from the most recent years the next number I look at is actually the taxable income so basically the taxable income is listed right in the same income statement you can see that listed right there so I put the taxable income then I asked you for taxes and if you look at Walmart they're pretty good actually Define what their accrual taxes are going to be 79819 to that is my taxes paid I'm actually going to compute the effective tax rate for Walmart by taking the taxes paid / taxable income those both come off the accrual income statement so that's that's effective tax rate now I could have cheated and looked up the effective tax rate which is reported elsewhere by Walmart in the 10K I actually prefer to do it this way when I take the taxes paid and divided by taxable income Indian income statement because it gives me a little more control over the process I also look up the net income which is right at the bottom of your 16,016,999 I'm almost home there are two other numbers that I would like to know in the case of Walmart one is the interest income that the company made on the Security's see the minus 1877 and they're broken up into two parts expenses from conventional dead play most expensive from Capital Aces I add them up to put them as interest expense on the deck a little water what if your company does not report interest income from cash on its income statement many companies don't if you can find it elsewhere in the 10K or annual report go for it if you cannot find it estimated and here's how I estimate it take the cash balance multiplied by whatever the short term risk is a Government rate is right now it's in the US that's going to be 0.12% get the income throw that in the move on don't get stuck just because you cannot find the interesting from the income statement let me move on to the balance sheet music in the balance sheet the first time I'm going to emphasize is it's not this year's balance sheet I'm going to focus on its last year's balance let me try to explain why I'm going to do this when I try to compute the return on invested Capital that Walmart made during 2012 I'm going to argue that they could not have made money on Capital investor towards the end of 2012 a store open on December 27th of 2012 is not going to pay off in 2012 so to be fair to Walmart I'm going to go back and look at the capital and invested at the start of the Year there are variations some people use the average capital of the year I actually have to try to keep it simple I just go back to the previous year so in this case I'm going to go back to the 2000 January 2012 numbers and pull those numbers what are the numbers I need I start on the answer to the balance sheet I need cash that's easy to know how much the company reported is good with which of course is the debris from accounting but I still from a car from Acquisitions the Goodwill is 20,651 then I'm going to ask you a question how expensive is that you want me to capitalize little later in this process maybe in the valuation class we will talk about why R&D has to be capitalized why would technology companies and pharmaceutical companies ignoring it will give you too low and invested Capital but you're not sure what you're doing just tend to know and move on if you have already expenses to be capitalized and you and you and say yes you see if you go down the worksheets at the bottom of the spreadsheet there's an R&D converter built into the spreadsheet that allows you to convert R&D expenses into Capital but as I said if you don't if you're not sure what you're doing just to know that and move on the next set of items that I'm going to ask for come from the liability I need to know how much you have in short term interesting that now that's usually going to be under current liabilities but not all items under current liabilities book qualify short-term debt facts I'm going to treat you the second is long-term debt you within a year and the third is capitalizes deal with new year so you add those three numbers up you come up with a short-term debt number for Walmart for the long term that I'm going to count two items one is a conventional long-term debt and the other is long-term lease obligations obligations you add those two numbers up I have long-term interest bearing that and ask for Cheryl this equity and there are a bunch of numbers here and you might want to which one I am asking for if you if you if you look at Walmart at Walmart for the company of 71,315 and then they report a minority interest 4,446 months so I'm going to separate the two because I think that didn't give you a chance to clean up the outstanding dead special what's commitments outstanding in in Uintah yes here there are two lease worksheets I'm going to ask you to fill out I know it sounds like a pain in the neck but I'll explain why one is at least converter worksheet for the current year and you can pull the numbers it's on page 92 off of the same 10K you can see the numbers pull up so basically those are the numbers reflecting what the commitments are in the most recent 10K and the current and the most recent years lease payment so you're going to enter that I'm also going to ask for the least commitments from the previous year which is a bit of a pain in the neck because you have to go back to the previous years 10K which I did and the previous year's 10K on page 76 of the 10K on page 76 of the 10K the previous first I'm going to enter the least commitments from last year 2400 and you can see the numbers match up so if you have lease commitments make sure you fill out both worksheets you think what if I don't have last year's 10K then don't worry about it just enter the current your numbers for both worksheets it's going to be close enough then ask you is there a call pre-tax cost of dad and if you either have a rating you can enter that the cost of that corresponding to the rating or if you don't have a rating you can compute a synthetic rating and and we talked about that a couple of weeks ago and then to the pre-tax cost of dead based on that we're almost home so we've got the pretext cost to death then asked you three questions to alarm me to finish the invested capital of Texas capital tax rate of 31.01% for Walmart now normally when you compute after tax return on your effective tax but that might sometimes overstate you return the best Capital especially if you feel your tax return is going to bounce back up to some higher level so I give you a chance to fix it if need be if you feel for instance that the current effective tax rate is not the right tax rate is going forward you can enter no here and then to whatever you think the tax rate will be in future income then I asked you about Goodwill generally speaking Goodwill is taken out of invested capitals when I compute invested capital I subtract the rationale for this is Goodwill is really investments in future growth assets of the companies required and it's not fair for me to ask you to make money operating income now on investments you haven't even thought about it yet that's logic but let's face it good will also include overpayment for companies so if you over pay for a company is in there so the argument could be made that ignoring all of Goodwill might be too dangerous and that some of the good will be left in invested Capital again the default assumption is don't mess with this just leave it as is so but if you say no to this assumption you want to change the Assumption then tell me what percentage of the Goodwill you want to leave an invested Capital so if you say 10% I will leave soon in this case will say 100% I leave the entire Goodwill invested Capital make it a much larger number I'm actually going to leave this at yes because unless I have a serious reason to worry about Goodwill it's best to let it out of invested Capital then ask you about cash the traditional practice again is you take cash out of invested Capital you might disagree if you have a company you might feel that some of the cash not all of it maybe but some of it should be left invested Capital here again if you want to change the Assumption you have to enter tell me what percentage of that cash you want to leave in the investigation Bush let me take you through the output part of the process please start with the lease converters the first thing I do with the least commitments is I can is a computer present value please commitment so there are the present value of a lease commitments and I do that for both last year and this year keep it keep track of that present value because that's not going to show up as part of that when I do invested capital I also compute the adjustment I will need to make the operating commission what are you talking about well if I can if I decide to treat Lisa's dad then I shouldn't be subtracting it out to get to operating income right so I should be adding back the least expensive but there's a catch if I can capitalize please cuz I'm also going to get an answer that so here's what's going to happen I'm going to add back the least expensive for the most recent year for instance tomorrow period 1.3 billion that I would be subtracting at let me cut to the Chase and take you to the accounting return calculator I'm going to compute three measures of accounting return invested Capital return in equity in a on Equity let's start with the return invested capital I start with your state it operating income if you have leases I do the adjustment I just talked about using the most recent years numbers that's why I need the least commitments for both years is the adjustment to the current is operating income is going to be based on the least commitments for the current year so I'm going to add back the least expensive product out of the depreciation if you have already expenses as I said I will adjust for that as well in this case the Walmart obviously doesn't do much R&D since it's not a big deal so I had to adjustment for the least expensive expenses and now have a new adjusted operating income then I pick the tax rate and if you decide to change your notice it in this case I've decided to stay with the effective tax rate of 31.01% which is the current effective tax rate I'm up at 10 after tax operating in one little glitch when you capitalize R&D and again don't worry about this if you have no idea what I'm talking about but when you capitalize on do you replace an R&D expenses fully tax-deductible with an amortization that's a smaller number and therefore you lose some tax benefits if you're not careful so if you capitalize on the expense I clean up for that to come up with your after tax operating income so the number that I think is the most reliable estimate of after tax operating income for Walmart is that 20.067 billion did you see as my adjusted number now to get the invested Capital let's start with the book value of interesting includes for sure I have the book value of equity that includes the that's basically the most from one year prior I said why do I do this because if I'm just looking at operating income that operating income reflects 100 because it's consolidation reflects 100% of the income of a subsidiary so the minority interest in that subsidiary should be added in to get a more consistent measure of the equity invested in both companies put together it's a little detail but it can make a difference in your return Capital then I subtract a good word subtract out cash the conventional adjustments to come up with invested Capital then I do some adjustments if you capitalize leases I look at the present value of a lease commitments but here's why I needed last year's numbers because these are all as of last year I have to do the present value of least commitments from the most recent here that's why I said if you don't have the most recent from the previous song the previous year if you don't have the previous episode in the case of Walmart I decided not to use either option but if you said I want to keep the invested the Goodwill in the invested capital and some of the cash and invested Capital here's where you have seen the difference and the total invested Capital that you see there are 1161 to 1 billion is my estimate of what I think is that has been invested by Walmart and its existing Investments let's back up though based on these numbers here's what it looks like Walmart has done it's got about 116.000% billion and after tax all pretty asses you divide the 20.067 billion by 116 billion you get a return on invested capital of 17.28% is that a good return on Capital I think so in fact the number you compared to is the cost of capital for Walmart Walmart is about 7 and a half percent they're making about 10% more than the cost of Capital One lights off now just to contrast I have compared it to the return invested Capital if you make no adjustments in other words if you don't capitalize leases you do the conventional after tax operating income the shortcut of after tax operating company invested Capital you get a higher number not by a huge amount for Walmart but there's some companies when you make the adjustments the difference is going to be fairly large be complete the story it's not just return on Capital I want to talk about I also want to talk about returning Equity to get to return an equity I'm going to start with the state of Texas 16000 9999 adjustable capitalized R&D and I decided to add bad Goodwill here's the place that I've done it again for the case of Walmart there's no adjustment to make if I take the net income and divide it by the book value of equity the return on Equity that I get the adjusted return Equity I get for Walmart it's a pretty impressive number 33.5 5% what would I compare that to how do I compare that to the cost of equity for Walmart as a company but since Equity could be invested in an operating assets but a traditional return Equity has net income that includes cash income from cash and the book value of 40 that includes a cash balance so I have a very interesting come from this is why I needed that I subtract from the state of net income the after tax interest income why after taxes cuz net income is already after taxes and if I do make income from my cash balance I have to pay taxes on this I use the effective tax rate or whatever you choose is your tax rate to come up with you after tax income I add that up because I don't want to count the income from cash and when I subtract that I come up with the net income from non-cash assets then again if there's already I just for the R&D in the case of you're operating Assets in Walmart remember we talked about 11:30 for just the operating assets and levitate for the entire company that's why we can't keep track of all of those different numbers so let's review if you are looking at a company you'd like to figure out whether the return invested capital and turn Equity a good numbers and good numbers relative to the cost of capital and cost of equity to do that you need you need at least one year of financial statements preferably to and the return invested Capital return on Equity a computer from the end of the previous year and are there and if you do this for apple one of the problems you going to run into a special from the book value is you can end up with negative not much you can do other than that choice that option of counting some of the cash is part of invested Capital but the bottom line is with what's the capital in return Equity you are trusting accounting numbers to to reflect what's going on and whatever accountants do to those numbers what do they take restructuring charges or write off items can affect your return Equity return Capital leading to some strange looking numbers so you have negative invested capital or negative Book value of equity both of which can happen Computing accounting returns becomes meaningless just put not meaningful and move on you've lost one one piece of input you would have used to assess the company but not much you can do about it so when you get a chance pick up a company pick up its annual its financial statements accounting returns it's a good place to start and assessing whether this company has been well managed in the past \n"
          ]
        }
      ],
      "source": [
        "import moviepy.editor as mp\n",
        "from pydub import AudioSegment\n",
        "import math\n",
        "import speech_recognition as sr\n",
        "import os\n",
        "\n",
        "# 1. Load video and extract audio\n",
        "video_path = \"ROIC.mp4\"   # Replace with your video\n",
        "audio_path = \"extracted_audio.wav\"\n",
        "\n",
        "video = mp.VideoFileClip(video_path)\n",
        "video.audio.write_audiofile(audio_path)\n",
        "\n",
        "# 2. Verify file exists\n",
        "if not os.path.exists(audio_path):\n",
        "    raise FileNotFoundError(f\"Audio file not found: {audio_path}\")\n",
        "\n",
        "# 3. Load audio with pydub\n",
        "audio = AudioSegment.from_wav(audio_path)\n",
        "\n",
        "# 4. Split into chunks & transcribe\n",
        "recognizer = sr.Recognizer()\n",
        "chunk_length_ms = 60000  # 60 seconds\n",
        "chunks = math.ceil(len(audio) / chunk_length_ms)\n",
        "full_text = \"\"\n",
        "\n",
        "for i in range(chunks):\n",
        "    start = i * chunk_length_ms\n",
        "    end = min((i+1) * chunk_length_ms, len(audio))\n",
        "    chunk = audio[start:end]\n",
        "    chunk_file = f\"temp_chunk_{i}.wav\"\n",
        "    chunk.export(chunk_file, format=\"wav\")\n",
        "\n",
        "    with sr.AudioFile(chunk_file) as source:\n",
        "        audio_data = recognizer.record(source)\n",
        "        try:\n",
        "            text = recognizer.recognize_google(audio_data)\n",
        "            full_text += text + \" \"\n",
        "        except sr.UnknownValueError:\n",
        "            full_text += \"[Unrecognized Audio] \"\n",
        "        except sr.RequestError as e:\n",
        "            full_text += f\"[API Error: {e}] \"\n",
        "\n",
        "print(\"Full Transcription:\\n\", full_text)\n"
      ]
    },
    {
      "cell_type": "code",
      "execution_count": null,
      "metadata": {
        "id": "UC9ZTabZASkR"
      },
      "outputs": [],
      "source": []
    }
  ],
  "metadata": {
    "colab": {
      "provenance": []
    },
    "kernelspec": {
      "display_name": "Python 3",
      "name": "python3"
    },
    "language_info": {
      "name": "python"
    }
  },
  "nbformat": 4,
  "nbformat_minor": 0
}